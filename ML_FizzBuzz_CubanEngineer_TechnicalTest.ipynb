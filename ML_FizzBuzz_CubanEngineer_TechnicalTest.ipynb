{
  "cells": [
    {
      "cell_type": "markdown",
      "metadata": {
        "id": "view-in-github",
        "colab_type": "text"
      },
      "source": [
        "<a href=\"https://colab.research.google.com/github/dmourlot/FiznzBuzz-ML-Challenge/blob/main/ML_FizzBuzz_CubanEngineer_TechnicalTest.ipynb\" target=\"_parent\"><img src=\"https://colab.research.google.com/assets/colab-badge.svg\" alt=\"Open In Colab\"/></a>"
      ]
    },
    {
      "cell_type": "markdown",
      "metadata": {
        "id": "XUu1W8M_cQC5"
      },
      "source": [
        "### **INSTRUCTIONS**\n",
        "\n",
        "Write a program that given the numbers from 1 to 100 print “None” for each number, except for multiples of 3 -- in which case it should print “Fizz”-- and for multiples of 5 --in which case it should print “Buzz”. For multiples of both 3 and 5 it should print “FizzBuzz”.\n",
        "\n",
        "EXAMPLE:\n",
        "Entry: [1, 2, 3, 4, 5,..., 15, 16, 18, 19, 20,...]\n",
        "\n",
        "Result: [None, None, Fizz, None, Buzz,...,FizzBuzz, None, Fizz, None, Buzz,...]\n",
        "\n",
        "Requirements:\n",
        "- Train any classification algorithm (E.g. support vector machine ) to solve the test as a classic supervised classification problem with four classes.\n",
        "- Build your own dataset of any length, any preprocessing step in the input data is allowed.\n",
        "- Also, provide  the accuracy score obtained by the model with the test data (numbers from 1 - 100).\n",
        "- Provide a brief theoretical description of the designed model and data pipeline.\n",
        "- You must  share the implementation and documentation of the project using GitHub.\n",
        "\n",
        "Extra Points:\n",
        "- Perform a ten folds cross-validation using  different classification algorithms and select the best among them\n",
        "- Update the documentation to support the selection (or not) of a new algorithm\n",
        "- Publish the trained model as a web service \n",
        "- Create unit tests for the implementation with a test coverage >=80% \n",
        "\n",
        "NOTE: The required theoretical description should be put with the other files from the project, could be in the README or other documentation format. When you finish the test please share the links with us. \n",
        "\n",
        "Good luck!"
      ]
    },
    {
      "cell_type": "markdown",
      "source": [
        "### **Imports**\n",
        "\n",
        "Here are the core libraries, modules and methods we'll neeed"
      ],
      "metadata": {
        "id": "l0uqBSfweTN-"
      }
    },
    {
      "cell_type": "code",
      "execution_count": 1,
      "metadata": {
        "id": "w4oxe0B5cQDO"
      },
      "outputs": [],
      "source": [
        "import numpy as np\n",
        "import pandas as pd\n",
        "import matplotlib.pyplot as plt\n",
        "from sklearn.model_selection import train_test_split\n",
        "from sklearn.metrics import confusion_matrix"
      ]
    },
    {
      "cell_type": "markdown",
      "source": [
        "### **Utility Functions**\n",
        "\n",
        "Functions we'll be using at various points throughout the solution."
      ],
      "metadata": {
        "id": "GLad5Y5QerX2"
      }
    },
    {
      "cell_type": "code",
      "execution_count": 2,
      "metadata": {
        "id": "kKLiYHjIcQDa"
      },
      "outputs": [],
      "source": [
        "def fizzBuzz(n):\n",
        "    # Apply the FizzBuzz rule \n",
        "    if   n%15 == 0:\n",
        "        return 'FizzBuzz'\n",
        "    elif n%3 == 0:\n",
        "        return 'Fizz'\n",
        "    elif n%5 == 0:\n",
        "        return 'Buzz'\n",
        "    else:\n",
        "        return 'None'\n",
        "        \n",
        "        \n",
        "def createFizzBuzzData(start, length):\n",
        "    # Build dataset with numbers from start to (start + length).\n",
        "    # and shuffle it so they're not ordered\n",
        "    fb_df = pd.DataFrame({'number': np.arange(start,start + length)})\n",
        "    fb_df['class'] = fb_df.apply(lambda x: fizzBuzz(x['number']), axis = 1)\n",
        "    # shuffle data so it is not ordered\n",
        "    fb_df = fb_df.sample(frac=1)\n",
        "    return fb_df\n",
        "\n",
        "def buildBalancedDataset(fb_df):\n",
        "    # Build a blanced dataset (all classes equally represented)\n",
        "    \n",
        "    fb_df_bal = fb_df[fb_df['class'] == 'FizzBuzz']  # initially contains all instances of the least represented class\n",
        "    no_rows = fb_df_bal['class'].count()\n",
        "    for c in ['Buzz', 'Fizz', 'None']:\n",
        "        aux_df = fb_df[fb_df['class'] == c][0:no_rows]\n",
        "        fb_df_bal = pd.concat([fb_df_bal, aux_df], ignore_index=True)\n",
        "    # shuffle dataset    \n",
        "    fb_df_bal = fb_df_bal.sample(frac=1)\n",
        "    return fb_df_bal\n",
        "\n",
        "def splitDatasets(df, num_dim):\n",
        "    # Split train feature(s) from class data\n",
        "    x = df.iloc[:,:-1]\n",
        "    y = df.iloc[:,-1]\n",
        "    \n",
        "    # Make 75-25% train-test splits\n",
        "    X_train, X_cv, y_train, y_cv = train_test_split(x, y, random_state=0)\n",
        "    \n",
        "    if num_dim == 1:\n",
        "        # Reshape as 2D column vectors (avoiding conflicts with sklearn methods)\n",
        "        X_train = pd.DataFrame(X_train.values.reshape(-1,1))\n",
        "        X_cv = pd.DataFrame(X_cv.values.reshape(-1,1))\n",
        "    \n",
        "    return (X_train, X_cv, y_train, y_cv)\n",
        "\n",
        "def plotLearningCurve(X, cv_scores, train_scores, title, x_label, y_label):\n",
        "    # Learning Curve\n",
        "    plt.plot(X, cv_scores, label = \"CV set\", linewidth=2)\n",
        "    plt.plot(X, train_scores, label = \"Training set\", linewidth=2)\n",
        "    plt.plot(X, [0.75] * len(X), label = \"Min. Expected Perf.\", linestyle='dashed', linewidth=1)\n",
        "    plt.legend(loc = \"best\")\n",
        "    \n",
        "    # Add title and axis names\n",
        "    plt.title(title)\n",
        "    plt.xlabel(x_label)\n",
        "    plt.ylabel(y_label)\n",
        "    plt.show()\n",
        "\n",
        "def buildPolynomialDataset(X_train, X_cv, degree):\n",
        "    from sklearn.preprocessing import PolynomialFeatures\n",
        "    from sklearn import preprocessing\n",
        "    \n",
        "    poly = PolynomialFeatures(degree = degree)\n",
        "    # prepare train data\n",
        "    X_poly = poly.fit_transform(X_train) # add new polynomial features to dataset\n",
        "    scaler = preprocessing.StandardScaler().fit(X_poly)  # scale data (for LR's optimization algorithm to converge)\n",
        "    X_poly = scaler.transform(X_poly)\n",
        "    \n",
        "    # prepare cv data\n",
        "    Xcv_poly = poly.fit_transform(X_cv) # add new polynomial features to dataset\n",
        "    scaler = preprocessing.StandardScaler().fit(Xcv_poly)  # scale data (for LR's optimization algorithm to converge)\n",
        "    Xcv_poly = scaler.transform(Xcv_poly)\n",
        "    \n",
        "    return X_poly, Xcv_poly\n",
        "\n",
        "def printClassifierMetrics(clf, X_train, X_cv, y_train, y_cv):\n",
        "    # Print Training and CV metrics for given classifier\n",
        "    # (Mean Accuracy and Confussion Matrix)\n",
        "    print(f\"Train accuracy: {round(clf.score(X_train, y_train),4)}\\n\")\n",
        "    print(f\"CV accuracy: {round(clf.score(X_cv, y_cv),4)}\\n\")\n",
        "    print(\"Train Confussion Matrix:\")\n",
        "    y_pred = clf.predict(X_train)\n",
        "    # Prettify confussion matrix presentation\n",
        "    cm_df = pd.DataFrame(confusion_matrix(y_train, y_pred))\n",
        "    cm_df.columns = clf.classes_\n",
        "    cm_df.set_index(clf.classes_, inplace = True)\n",
        "    \n",
        "    print(cm_df)\n",
        "\n",
        "def binaryEncode(i, num_bits):\n",
        "    # Convert an integer to its binary equivalent using numb_bits\n",
        "    return np.array([i >> d & 1 for d in range(num_bits)])\n",
        "\n",
        "def buildBinaryDataset(fb_df, length, num_bits):\n",
        "    # Binary encode each integer in our dataset. Return a \n",
        "    # dataframe with each column representing a bit position \n",
        "    bin_matrix = np.zeros([length,num_bits])\n",
        "    for n, i in zip(fb_df['number'],range(length)):\n",
        "        bin_matrix[i] = binaryEncode(n,num_bits)\n",
        "    bin_df = pd.DataFrame(bin_matrix).astype('int32') # create DF from numpy ndarray\n",
        "    bin_df = pd.concat([bin_df, fb_df['class'].reset_index(drop=True)], axis = 1) # add class column to binary dataset\n",
        "    return bin_df"
      ]
    },
    {
      "cell_type": "markdown",
      "source": [
        "### **Key Initializations**"
      ],
      "metadata": {
        "id": "Ee-cxuTifP1y"
      }
    },
    {
      "cell_type": "markdown",
      "source": [
        "First of all, let's generate our hold-out or test set with numbers from 1 to 100. Models will only see this dataset at prediction time"
      ],
      "metadata": {
        "id": "TCH8f0BNfhbZ"
      }
    },
    {
      "cell_type": "code",
      "execution_count": 4,
      "metadata": {
        "id": "WX2jSgjJcQD1"
      },
      "outputs": [],
      "source": [
        "# Generate hold-out/test dataset with numbers 1 through 100\n",
        "start = 1     \n",
        "length = 100       \n",
        "hold_df = createFizzBuzzData(start, length).sort_values(['number'])\n",
        "\n",
        "# Make features vs class split\n",
        "X_hold = hold_df['number']\n",
        "y_hold = hold_df['class']\n",
        "\n",
        "#print(X_hold.head)\n",
        "#print(y_hold.head)"
      ]
    },
    {
      "cell_type": "markdown",
      "source": [
        "Let us also initialize the `start` variable at `101`, to ensure there's no data leakage (i.e cheating). No generated training set may contain elements from the hold-out/test set."
      ],
      "metadata": {
        "id": "Aw4__AY3gHLN"
      }
    },
    {
      "cell_type": "code",
      "source": [
        "start = 101"
      ],
      "metadata": {
        "id": "irheYgq6g3sk"
      },
      "execution_count": 5,
      "outputs": []
    },
    {
      "cell_type": "markdown",
      "metadata": {
        "id": "YjqqcDiccQD7"
      },
      "source": [
        "Generate initial dataset:\n",
        "Use relatively few instances just to prove our \"quick'n dirty solution\"."
      ]
    },
    {
      "cell_type": "code",
      "execution_count": 6,
      "metadata": {
        "id": "g7D9TzlMcQD-",
        "outputId": "e3106e1c-d45d-4c35-bd39-b7b4ab341e18",
        "colab": {
          "base_uri": "https://localhost:8080/"
        }
      },
      "outputs": [
        {
          "output_type": "stream",
          "name": "stdout",
          "text": [
            "(5000, 2)\n"
          ]
        },
        {
          "output_type": "execute_result",
          "data": {
            "text/plain": [
              "<bound method NDFrame.head of       number class\n",
              "4619    4720  Buzz\n",
              "873      974  None\n",
              "2049    2150  Buzz\n",
              "867      968  None\n",
              "1060    1161  Fizz\n",
              "...      ...   ...\n",
              "1388    1489  None\n",
              "537      638  None\n",
              "3376    3477  Fizz\n",
              "1251    1352  None\n",
              "2731    2832  Fizz\n",
              "\n",
              "[5000 rows x 2 columns]>"
            ]
          },
          "metadata": {},
          "execution_count": 6
        }
      ],
      "source": [
        "length = 5000     # number of training instances  \n",
        "fb_df = createFizzBuzzData(start, length)\n",
        "print(fb_df.shape)\n",
        "fb_df.head"
      ]
    },
    {
      "cell_type": "markdown",
      "metadata": {
        "id": "JpgoKzuRcQEB"
      },
      "source": [
        "### **Some (very basic) Exploratory Data Analysis**\n",
        "\n",
        "Since we're just working with a succession of continous, non-repeated positive integers, there's no point really in computing statistics such as  mean, standard deviation and the like. Analysis of distributions, with histograms and the like, don't make much sense either. \n",
        "\n",
        "However, we can gain some insight from examining class distributions: "
      ]
    },
    {
      "cell_type": "code",
      "execution_count": 7,
      "metadata": {
        "id": "-Xen0KAjcQED",
        "outputId": "adf85920-f9ff-44ec-fe52-4817b4c80d69",
        "colab": {
          "base_uri": "https://localhost:8080/"
        }
      },
      "outputs": [
        {
          "output_type": "execute_result",
          "data": {
            "text/plain": [
              "count     5000\n",
              "unique       4\n",
              "top       None\n",
              "freq      2667\n",
              "Name: class, dtype: object"
            ]
          },
          "metadata": {},
          "execution_count": 7
        }
      ],
      "source": [
        "fb_df['class'].describe()"
      ]
    },
    {
      "cell_type": "code",
      "execution_count": 8,
      "metadata": {
        "id": "I-fPR4v5cQEF",
        "outputId": "3c74aaed-43d3-4a4c-861b-e5ed486ab01a",
        "colab": {
          "base_uri": "https://localhost:8080/",
          "height": 366
        }
      },
      "outputs": [
        {
          "output_type": "display_data",
          "data": {
            "text/plain": [
              "<Figure size 432x288 with 1 Axes>"
            ],
            "image/png": "[encoded data removed]"
          },
          "metadata": {
            "needs_background": "light"
          }
        }
      ],
      "source": [
        "# Plot a bar chart with class frequencies\n",
        "pct = fb_df['class'].value_counts()/length\n",
        "\n",
        "fig = plt.figure()\n",
        "ax = fig.add_axes([0,0,1,1])\n",
        "ax.bar(pct.index,pct)\n",
        "ax.set_title('Class Frequencies FizzBuzz Dataset*')\n",
        "ax.set_ylabel('Frequency')\n",
        "ax.set_xlabel('Classes')\n",
        "plt.show()"
      ]
    },
    {
      "cell_type": "markdown",
      "metadata": {
        "id": "_x4sBqsBcQEI"
      },
      "source": [
        "**NOTE: It turns out that class frequencies remain the same as long as we keep the number of instances in our dataset a multiple of 100*."
      ]
    },
    {
      "cell_type": "markdown",
      "metadata": {
        "id": "uVugLewtcQEL"
      },
      "source": [
        "As we can see, class `None` is over represented, while classes `Buzz` and (specially) `FizzBuzz` are under represented. Could this have a negative impact on performance?"
      ]
    },
    {
      "cell_type": "markdown",
      "metadata": {
        "id": "rJsQYhxtcQEM"
      },
      "source": [
        "### **\"Quick n dirty\" solution: Logistic Regression**\n",
        "\n",
        "It is considered good practice to work first in a 'quick n dirty' solution to our problem; using this simple model to spot things like bias and/or variance issues. From there, we can more confidently move (if necessary) to different feature engineering techniques, more complex algorithms, models and pipelines, etc.\n",
        "\n",
        "In this case, our choice will be Logistic Regression with default parameter values, and no feature engineering steps."
      ]
    },
    {
      "cell_type": "code",
      "execution_count": 9,
      "metadata": {
        "colab": {
          "base_uri": "https://localhost:8080/"
        },
        "id": "XjkuBPaucQEO",
        "outputId": "307bd1d2-5b9a-40c8-f94d-8a01017229f1"
      },
      "outputs": [
        {
          "output_type": "stream",
          "name": "stdout",
          "text": [
            "Train accuracy: 0.5219\n",
            "\n",
            "CV accuracy: 0.568\n",
            "\n",
            "Train Confussion Matrix:\n",
            "          Buzz  Fizz  FizzBuzz  None\n",
            "Buzz         0     0         0   534\n",
            "Fizz         0     0         0  1007\n",
            "FizzBuzz     0     0         0   252\n",
            "None         0     0         0  1957\n"
          ]
        }
      ],
      "source": [
        "from sklearn.linear_model import LogisticRegression\n",
        "\n",
        "X_train, X_cv, y_train, y_cv = splitDatasets(fb_df, 1)\n",
        "lr_clf = LogisticRegression(random_state=0).fit(X_train, y_train)\n",
        "printClassifierMetrics(lr_clf, X_train, X_cv, y_train, y_cv)"
      ]
    },
    {
      "cell_type": "markdown",
      "metadata": {
        "id": "uAb4joZxcQEQ"
      },
      "source": [
        "Very poor performance!! LR is behaving exactly as a \"predict most frequent\" dummy classifier."
      ]
    },
    {
      "cell_type": "code",
      "execution_count": 11,
      "metadata": {
        "id": "iMkjyv7OcQES",
        "colab": {
          "base_uri": "https://localhost:8080/"
        },
        "outputId": "ca287734-3595-45f9-890d-cdce8c39903e"
      },
      "outputs": [
        {
          "output_type": "stream",
          "name": "stdout",
          "text": [
            "Train accuracy: 0.5219\n",
            "\n",
            "CV accuracy: 0.568\n",
            "\n",
            "Train Confussion Matrix:\n",
            "          Buzz  Fizz  FizzBuzz  None\n",
            "Buzz         0     0         0   534\n",
            "Fizz         0     0         0  1007\n",
            "FizzBuzz     0     0         0   252\n",
            "None         0     0         0  1957\n"
          ]
        }
      ],
      "source": [
        "from sklearn.dummy import DummyClassifier\n",
        "\n",
        "X_train, X_cv, y_train, y_cv = splitDatasets(fb_df, 1)\n",
        "dummy_clf = DummyClassifier(strategy=\"most_frequent\")\n",
        "dummy_clf.fit(X_train, y_train)\n",
        "printClassifierMetrics(dummy_clf, X_train, X_cv, y_train, y_cv)"
      ]
    },
    {
      "cell_type": "markdown",
      "metadata": {
        "id": "3U1t8ORtcQEU"
      },
      "source": [
        "In some cases an inbalanced dataset (with some classes under represented) can impair model's performance. Let's try with a balanced version and see if it helps..."
      ]
    },
    {
      "cell_type": "code",
      "execution_count": 13,
      "metadata": {
        "id": "qcNU4XwOcQEW",
        "colab": {
          "base_uri": "https://localhost:8080/"
        },
        "outputId": "8de7495f-1fd1-4da3-d0a5-93d6138b60ee"
      },
      "outputs": [
        {
          "output_type": "stream",
          "name": "stdout",
          "text": [
            "Class counts:\n",
            "\n",
            "Buzz        334\n",
            "None        334\n",
            "FizzBuzz    334\n",
            "Fizz        334\n",
            "Name: class, dtype: int64 \n",
            "\n",
            "Train accuracy: 0.2575\n",
            "\n",
            "CV accuracy: 0.2275\n",
            "\n",
            "Train Confussion Matrix:\n",
            "          Buzz  Fizz  FizzBuzz  None\n",
            "Buzz         0     0       254     0\n",
            "Fizz         0     0       238     0\n",
            "FizzBuzz     0     0       258     0\n",
            "None         0     0       252     0\n"
          ]
        }
      ],
      "source": [
        "# Build balanced dataset\n",
        "fb_df_bal = buildBalancedDataset(fb_df)\n",
        "\n",
        "#print(fb_df_bal['class'].describe())\n",
        "aux = fb_df_bal['class'].value_counts()\n",
        "print(\"Class counts:\\n\")\n",
        "print(aux,'\\n')\n",
        "pct = aux.iloc[:]/fb_df_bal['class'].count()\n",
        "\n",
        "X_train_bal, X_cv_bal, y_train_bal, y_cv_bal = splitDatasets(fb_df_bal, 1)\n",
        "lr_clf = LogisticRegression(random_state=0).fit(X_train_bal, y_train_bal)\n",
        "printClassifierMetrics(lr_clf, X_train_bal, X_cv_bal, y_train_bal, y_cv_bal)"
      ]
    },
    {
      "cell_type": "markdown",
      "metadata": {
        "id": "DxNvVHNOcQEY"
      },
      "source": [
        "Much worse results (even when predicting on same data used in training)!! Balancing class representations doesn't seem to help at all."
      ]
    },
    {
      "cell_type": "markdown",
      "metadata": {
        "id": "fHay-EctcQEZ"
      },
      "source": [
        "#### *BIAS vs VARIANCE Analysis*\n",
        "\n",
        "Let's run some tests to see if we have problems with high bias (underfitting) or high variance (overfitting)."
      ]
    },
    {
      "cell_type": "markdown",
      "metadata": {
        "id": "FrlF2RhMcQEb"
      },
      "source": [
        "Lets see what's our LR model performance on training and CV sets as we increase the number of training instances...  "
      ]
    },
    {
      "cell_type": "code",
      "execution_count": 23,
      "metadata": {
        "id": "zx8wRS_VcQEc",
        "colab": {
          "base_uri": "https://localhost:8080/",
          "height": 403
        },
        "outputId": "f275eafe-db0d-480f-92c2-1cb2e4825f3e"
      },
      "outputs": [
        {
          "output_type": "stream",
          "name": "stdout",
          "text": [
            "Train accuracies: [0.5328, 0.5369, 0.5318, 0.5363, 0.5347, 0.536, 0.5286, 0.5329, 0.5298, 0.5354, 0.5348, 0.5325, 0.534, 0.5297, 0.5324, 0.5335, 0.5346, 0.5325, 0.5319, 0.535]\n",
            "\n",
            "CV accuracies: [0.5352, 0.5227, 0.5383, 0.5245, 0.5293, 0.5256, 0.5476, 0.5347, 0.544, 0.5271, 0.5288, 0.536, 0.5315, 0.5442, 0.5364, 0.533, 0.5295, 0.536, 0.5377, 0.5283]\n",
            "\n"
          ]
        },
        {
          "output_type": "display_data",
          "data": {
            "text/plain": [
              "<Figure size 432x288 with 1 Axes>"
            ],
            "image/png": "[encoded data removed]"
          },
          "metadata": {
            "needs_background": "light"
          }
        }
      ],
      "source": [
        "cv_scores = []\n",
        "train_scores = []\n",
        "sets_sizes = np.arange(5000,25000, 1000)\n",
        " \n",
        "lr_clf = LogisticRegression(random_state=0)\n",
        "for l in sets_sizes:\n",
        "    fb_df = createFizzBuzzData(start, l) # create dataset of new length l\n",
        "    X_train, X_cv, y_train, y_cv = splitDatasets(fb_df, 1) # create splits for training and cross validation sets\n",
        "    clf = lr_clf.fit(X_train, y_train)\n",
        "    cv_scores.append(clf.score(X_cv, y_cv))\n",
        "    train_scores.append(clf.score(X_train, y_train))\n",
        "\n",
        "print(f\"Train accuracies: {[round(a,4) for a in train_scores]}\\n\")\n",
        "print(f\"CV accuracies: {[round(a,4) for a in cv_scores]}\\n\")\n",
        "plotLearningCurve(sets_sizes, cv_scores, train_scores, 'Learning Curve LR\\n(Mean accuracy vs Training set size)','Training Set Size', 'Mean Accuracy')"
      ]
    },
    {
      "cell_type": "markdown",
      "metadata": {
        "id": "PcPiC85hcQEe"
      },
      "source": [
        "We see that adding more training examples is not helping boost model performance in the slightest. This learning curve -with low mean accuracies on both Train and CV datasets- is a clear indicator that we're confronting a  high bias (underfitting) problem --since (not surprinsingly) our one-variable LR model is too simple to fit (find) the underlying relationships in data. And, of course, adding more training examples do not help overcome underfitting."
      ]
    },
    {
      "cell_type": "markdown",
      "metadata": {
        "id": "Np_A2XRccQEg"
      },
      "source": [
        "Let's see if we can improve performance by adding complexity (i.e polynomial features) to our model."
      ]
    },
    {
      "cell_type": "code",
      "execution_count": 22,
      "metadata": {
        "id": "D2kontG3cQEi",
        "colab": {
          "base_uri": "https://localhost:8080/",
          "height": 402
        },
        "outputId": "58bc8e15-235e-481c-ded9-ddd9f265de9b"
      },
      "outputs": [
        {
          "output_type": "stream",
          "name": "stdout",
          "text": [
            "(5000, 2)\n",
            "Train accuracies: [0.536, 0.536, 0.536, 0.536, 0.536]\n",
            "\n",
            "CV accuracies: [0.5256, 0.5256, 0.5256, 0.5256, 0.5256]\n",
            "\n"
          ]
        },
        {
          "output_type": "display_data",
          "data": {
            "text/plain": [
              "<Figure size 432x288 with 1 Axes>"
            ],
            "image/png": "[encoded data removed]"
          },
          "metadata": {
            "needs_background": "light"
          }
        }
      ],
      "source": [
        "degrees = np.arange(1,10,2)\n",
        "cv_scores = []\n",
        "train_scores = []\n",
        "\n",
        "length = 5000\n",
        "fb_df = createFizzBuzzData(start, length)\n",
        "X_train, X_cv, y_train, y_cv = splitDatasets(fb_df,1) # create splits for training and cross validation sets\n",
        "\n",
        "lr_clf = LogisticRegression(random_state=0, max_iter = 10000)\n",
        "for d in degrees:\n",
        "    #prepare train and cv data\n",
        "    X_poly, Xcv_poly = buildPolynomialDataset(X_train, X_cv, d)\n",
        "    # train model with new polynomial features\n",
        "    clf = lr_clf.fit(X_poly, y_train)\n",
        "    cv_scores.append(clf.score(Xcv_poly, y_cv))\n",
        "    train_scores.append(clf.score(X_poly, y_train))\n",
        "\n",
        "print(f\"Train accuracies: {[round(a,4) for a in train_scores]}\\n\")\n",
        "print(f\"CV accuracies: {[round(a,4) for a in cv_scores]}\\n\")\n",
        "plotLearningCurve(degrees, cv_scores, train_scores,'Learning Curve LR\\n(Mean accuracy vs Polynom. degree)', 'Polynom. degree', 'Mean Accuracy')"
      ]
    },
    {
      "cell_type": "markdown",
      "metadata": {
        "id": "prPhfH9WcQEo"
      },
      "source": [
        "Both Training and CV mean accuracies stay exactly the same no matter how many polynomial variables we add (puzzling, but true!). Even though we observe a slight increase in CV mean accuracy, it is still far from good. So we must conclude that Logistic Regression is not a good choice for this problem. We need something more complex. "
      ]
    },
    {
      "cell_type": "markdown",
      "metadata": {
        "id": "d_9ZrTA4cQEq"
      },
      "source": [
        "### **Support Vector Machine**\n",
        "\n",
        "Since Logistic Regression proved too simple for this problem, let's try something more advanced, like a SVM algorithm, and see if we can overcome our high variance problems."
      ]
    },
    {
      "cell_type": "code",
      "execution_count": 24,
      "metadata": {
        "id": "g3Gwyk5ucQEr"
      },
      "outputs": [],
      "source": [
        "from sklearn.svm import SVC  \n",
        "from sklearn.preprocessing import MinMaxScaler"
      ]
    },
    {
      "cell_type": "markdown",
      "metadata": {
        "id": "m6UQW7HVcQEt"
      },
      "source": [
        "Test SVM with one-variable dataset..."
      ]
    },
    {
      "cell_type": "code",
      "execution_count": 29,
      "metadata": {
        "id": "tPCw7SEPcQEu"
      },
      "outputs": [],
      "source": [
        "# Generate dataset \n",
        "length = 10000     # number of training instances  \n",
        "fb_df = createFizzBuzzData(start, length)\n",
        "X_train, X_cv, y_train, y_cv = splitDatasets(fb_df,1) # create splits for training and cross validation sets\n",
        "\n",
        "# SVMs benefit from feature scaling/normalization\n",
        "norm = MinMaxScaler().fit(X_train)\n",
        "X_train_norm = norm.transform(X_train)\n",
        "\n",
        "norm = MinMaxScaler().fit(X_cv)\n",
        "X_cv_norm = norm.transform(X_cv)"
      ]
    },
    {
      "cell_type": "code",
      "execution_count": 30,
      "metadata": {
        "id": "khzD47uJcQEx",
        "colab": {
          "base_uri": "https://localhost:8080/"
        },
        "outputId": "62d50fe6-ee81-4b7c-b2db-aa88ef660fcb"
      },
      "outputs": [
        {
          "output_type": "stream",
          "name": "stdout",
          "text": [
            "Train accuracy: 0.5345\n",
            "\n",
            "CV accuracy: 0.53\n",
            "\n",
            "Train Confussion Matrix:\n",
            "          Buzz  Fizz  FizzBuzz  None\n",
            "Buzz         0     0         0  1004\n",
            "Fizz         0     0         0  1975\n",
            "FizzBuzz     0     0         0   512\n",
            "None         0     0         0  4009\n"
          ]
        }
      ],
      "source": [
        "svm_clf = SVC(kernel = 'rbf', gamma='auto').fit(X_train_norm, y_train)\n",
        "printClassifierMetrics(svm_clf, X_train_norm, X_cv_norm, y_train, y_cv)"
      ]
    },
    {
      "cell_type": "markdown",
      "metadata": {
        "id": "r1SZOgBscQEx"
      },
      "source": [
        "Here we show several SVM results for different parameter configurations (with Dataset size = 20 000, normalization =  MinMaxScaling)\n",
        "\n",
        "- (kernel = \"rbf\", gamma = \"scale\"): Train accuracy: 0.5335, CV accuracy: 0.5328\n",
        "\n",
        "- (kernel = \"rbf\", gamma = \"auto\"): Train accuracy: 0.5335, CV accuracy: 0.5328\n",
        "\n",
        "- (kernel = \"rbf\", gamma = \"auto\", class_weight = \"balanced\"): Train accuracy: 0.1996, CV accuracy: 0.1864\n",
        "\n",
        "- (kernel = \"sigmoid\", gamma = scale): Train accuracy: 0.3655, CV accuracy: 0.3702\n",
        "\n",
        "- (kernel = \"sigmoid\", gamma = \"auto\"): Train accuracy: 0.4079, CV accuracy: 0.392\n",
        "\n",
        "Results are mediocre -to say the least. They clearly show that even SVM algorithm isn't complex enough to accurately model this particular problem. "
      ]
    },
    {
      "cell_type": "markdown",
      "metadata": {
        "id": "sMDAHT6qcQE0"
      },
      "source": [
        "### **Neural Networks**\n",
        "\n",
        "So, SVM didn't move the needle either. I guess, it's time to bring out the big guns..."
      ]
    },
    {
      "cell_type": "code",
      "execution_count": 27,
      "metadata": {
        "id": "CrtWlaAScQE1"
      },
      "outputs": [],
      "source": [
        "from sklearn.neural_network import MLPClassifier"
      ]
    },
    {
      "cell_type": "code",
      "execution_count": 28,
      "metadata": {
        "id": "K2X6oZjdcQE6"
      },
      "outputs": [],
      "source": [
        "def generateMLPDataset(start, length):\n",
        "    # Generate FizzBuzz dataset\n",
        "    fb_df = createFizzBuzzData(start, length) \n",
        "    # Binary encode FizzBuzz dataset \n",
        "    # (Neural Networks greatly benefit from a binary encoding)\n",
        "    num_digits = fb_df['number'].max().bit_length() # returns the total number of bits required to binary encode any integer\n",
        "    fb_df_bin = buildBinaryDataset(fb_df, length, num_digits) # binary encode FizzBuzz dataset\n",
        "    \n",
        "    return fb_df_bin\n"
      ]
    },
    {
      "cell_type": "markdown",
      "source": [
        "Let's test `MLP` classifier with a dataset of only 1000 instances and a basic configuration of only one hidden layer, with 100 units in it, using the `relu` acitvation function along with the `adam` solver.*\n",
        "\n",
        "**See sklearn documentation for parameter descriptions (activation functions, solvers, etc.) https://scikit-learn.org/stable/modules/generated/sklearn.neural_network.MLPClassifier.html*"
      ],
      "metadata": {
        "id": "E_sS3NdSlzGw"
      }
    },
    {
      "cell_type": "code",
      "execution_count": 31,
      "metadata": {
        "id": "ljeETPqncQE7",
        "outputId": "19ae70d1-ffd1-4051-c7a2-85f4ae2106c1",
        "colab": {
          "base_uri": "https://localhost:8080/"
        }
      },
      "outputs": [
        {
          "output_type": "stream",
          "name": "stdout",
          "text": [
            "Train accuracy: 1.0\n",
            "\n",
            "CV accuracy: 0.836\n",
            "\n",
            "Train Confussion Matrix:\n",
            "          Buzz  Fizz  FizzBuzz  None\n",
            "Buzz       104     0         0     0\n",
            "Fizz         0   201         0     0\n",
            "FizzBuzz     0     0        45     0\n",
            "None         0     0         0   400\n"
          ]
        }
      ],
      "source": [
        "# Generate FizzBuzz dataset\n",
        "length = 1000     # number of training instances\n",
        "fb_df_bin = generateMLPDataset(start, length) # binary encode FizzBuzz dataset\n",
        "X_bin_train, X_bin_cv, y_train, y_cv = splitDatasets(fb_df_bin,len(fb_df_bin.columns)-1) # create splits for training and cross validation sets\n",
        "mlp_clf = MLPClassifier(hidden_layer_sizes = (100,), solver = 'adam', random_state=1, max_iter=10000).fit(X_bin_train, y_train)\n",
        "\n",
        "printClassifierMetrics(mlp_clf, X_bin_train, X_bin_cv, y_train, y_cv )"
      ]
    },
    {
      "cell_type": "markdown",
      "metadata": {
        "id": "hr3TTFywcQE-"
      },
      "source": [
        "Good! The Neural Network (`MLP`) model seems to be complex enough to solve our High Bias problem -evidenced in the remarkable increase in CV accuracy. However, at least with current parameters and train size (1000 instances), we observe signs of high variance/overfitting (i.e perfect performance on training set, but unable to fully generalize for unseen instances in CV dataset). We have a couple of options to correct this:"
      ]
    },
    {
      "cell_type": "markdown",
      "metadata": {
        "id": "f9aChpTVcQE_"
      },
      "source": [
        "Let's start by the obvious one: increasing training size...\n",
        "\n",
        "*NOTE: The following piece of code took me a lot of time to complete (10+ minutes) even using Gooogle's Colab.*"
      ]
    },
    {
      "cell_type": "code",
      "execution_count": 36,
      "metadata": {
        "id": "NU4bCM6pcQFB"
      },
      "outputs": [],
      "source": [
        "cv_scores = []     # Will hold classifier's CV mean accuracy on each of the different runs  \n",
        "train_scores = []  # Will hold classifier's Train mean accuracy on each of the different runs\n",
        "set_sizes = np.arange(5000,31000, 5000)   # list of data set sizes increasing by 5 000\n",
        "\n",
        "mlp_clf = MLPClassifier(hidden_layer_sizes = (100,), solver = 'adam', random_state=1, max_iter=10000)\n",
        "for l in set_sizes:\n",
        "    fb_df = createFizzBuzzData(start, l) # create dataset of new length l\n",
        "    fb_df_bin = generateMLPDataset(start, l) # binary encode FizzBuzz dataset\n",
        "    X_bin_train, X_bin_cv, y_train, y_cv = splitDatasets(fb_df_bin,len(fb_df_bin.columns)-1) # create splits for training and cross validation sets\n",
        "    clf = mlp_clf.fit(X_bin_train, y_train)\n",
        "    cv_scores.append(clf.score(X_bin_cv, y_cv))\n",
        "    train_scores.append(clf.score(X_bin_train, y_train))   \n"
      ]
    },
    {
      "cell_type": "code",
      "execution_count": 37,
      "metadata": {
        "id": "5g2PwkxPcQFD",
        "outputId": "ac11f41c-914a-4cbc-8349-7963f1c60a55",
        "colab": {
          "base_uri": "https://localhost:8080/",
          "height": 383
        }
      },
      "outputs": [
        {
          "output_type": "stream",
          "name": "stdout",
          "text": [
            "Train accuracies: [0.9968, 0.9879, 0.9968, 0.9761, 0.9973, 0.9916]\n",
            "\n",
            "CV accuracies: [0.9424, 0.9444, 0.9779, 0.9604, 0.9888, 0.9839]\n",
            "\n"
          ]
        },
        {
          "output_type": "display_data",
          "data": {
            "text/plain": [
              "<Figure size 432x288 with 1 Axes>"
            ],
            "image/png": "[encoded data removed]"
          },
          "metadata": {
            "needs_background": "light"
          }
        }
      ],
      "source": [
        "print(f\"Train accuracies: {[round(a,4) for a in train_scores]}\\n\")\n",
        "print(f\"CV accuracies: {[round(a,4) for a in cv_scores]}\\n\")\n",
        "plotLearningCurve(set_sizes, cv_scores, train_scores, 'Learning Curve MLP\\n(Mean accuracy vs Training set size)','Mean Accuracy','Training Set Size')"
      ]
    },
    {
      "cell_type": "markdown",
      "metadata": {
        "id": "6v_vNU_CcQFE"
      },
      "source": [
        "Voila❗\n",
        "\n",
        "As it turns out, increasing training size largely solves the high variance (overfitting) problem of our first MLP model. We can see that best performance is reached at around 25 000 examples. \n",
        "\n",
        "So, lets retrain our `MLP` classifier with 30 000 examples (since we have the privilege of unlimited data), and  use it as our definite FizzBuzz challenge solver. But first lets twick the regularization parameter `alpha` just a bit -hoping to gain a little more generalization power."
      ]
    },
    {
      "cell_type": "code",
      "execution_count": 82,
      "metadata": {
        "id": "8xtduTIfcQFI",
        "colab": {
          "base_uri": "https://localhost:8080/"
        },
        "outputId": "242947f1-00b2-4c62-efcd-e184b93c5281"
      },
      "outputs": [
        {
          "output_type": "stream",
          "name": "stdout",
          "text": [
            "Train accuracy: 0.9922\n",
            "\n",
            "CV accuracy: 0.9847\n",
            "\n",
            "Train Confussion Matrix:\n",
            "          Buzz  Fizz  FizzBuzz   None\n",
            "Buzz      2974     8         0     49\n",
            "Fizz         2  5949         2     60\n",
            "FizzBuzz     1     0      1480     15\n",
            "None        13    26         0  11921\n"
          ]
        }
      ],
      "source": [
        "from sklearn.model_selection import cross_val_score\n",
        "\n",
        "# train model with 30000 examples and a higher alpha value (more regularization)\n",
        "mlp_clf = MLPClassifier(hidden_layer_sizes = (100,), solver = 'adam', alpha = 0.01, random_state=1, max_iter=10000).fit(X_bin_train, y_train) \n",
        "\n",
        "printClassifierMetrics(mlp_clf, X_bin_train, X_bin_cv, y_train, y_cv )"
      ]
    },
    {
      "cell_type": "markdown",
      "source": [
        "Finally let's evaluate the model using `cross_val_score` to have a better idea of what to expect when we finally attempt to solve the FizzBuzz challenge using our trained `MLP` model.\n",
        "\n",
        "**NOTE: Cross validation is time expensive (and we don't really need it in this case), but we'll use it anyway. We will set it to just 5-fold to economize time.*"
      ],
      "metadata": {
        "id": "PQaBaUmnrNg-"
      }
    },
    {
      "cell_type": "code",
      "source": [
        "scores = cross_val_score(mlp_clf, fb_df_bin.iloc[:,:-1], fb_df_bin.iloc[:,-1], cv=5)  # only 5-fold cross validation for it hinders performance"
      ],
      "metadata": {
        "id": "4gBCIl2JrtKE"
      },
      "execution_count": 83,
      "outputs": []
    },
    {
      "cell_type": "code",
      "source": [
        "print(scores)\n",
        "print(scores.mean())"
      ],
      "metadata": {
        "colab": {
          "base_uri": "https://localhost:8080/"
        },
        "id": "IvdzcGJzfglI",
        "outputId": "81b72c82-e636-446e-b0af-1a6d7f292ebd"
      },
      "execution_count": 84,
      "outputs": [
        {
          "output_type": "stream",
          "name": "stdout",
          "text": [
            "[0.9875     0.9885     0.98316667 0.97133333 0.99433333]\n",
            "0.9849666666666665\n"
          ]
        }
      ]
    },
    {
      "cell_type": "markdown",
      "source": [
        "### **Prediction**\n",
        "\n",
        "So, the moment of truth has arrived. It's time for us to use our model and predict FizzBuzz classes for every number from 1-100."
      ],
      "metadata": {
        "id": "BhBiX_3zeaRx"
      }
    },
    {
      "cell_type": "markdown",
      "source": [
        "But first, some preprocessing steps to accomodate the hold-out dataset to our MLP model:"
      ],
      "metadata": {
        "id": "FXw1rVJtpfYx"
      }
    },
    {
      "cell_type": "code",
      "execution_count": 51,
      "metadata": {
        "id": "WE7aI09icQFL"
      },
      "outputs": [],
      "source": [
        "# Binary encode hold-out dataset (numbers 1-100)\n",
        "# (we must encode with the same number of digits used in training, since this\n",
        "# is also the number of nodes in the input layer of our MLP classifier)\n",
        "num_digits = int(start + fb_df_bin.iloc[:,0].count()).bit_length()\n",
        "hold_df_bin = buildBinaryDataset(hold_df, 100, num_digits)  #this line for Colab"
      ]
    },
    {
      "cell_type": "code",
      "execution_count": 52,
      "metadata": {
        "id": "d6Oeqw5gcQFN",
        "outputId": "e70cf1cf-41b1-468f-9d75-f115df2ec3cb",
        "colab": {
          "base_uri": "https://localhost:8080/"
        }
      },
      "outputs": [
        {
          "output_type": "execute_result",
          "data": {
            "text/plain": [
              "<bound method NDFrame.head of     0  1  2  3  4  5  6  7  8  9  10  11  12  13  14 class\n",
              "0   1  0  0  0  0  0  0  0  0  0   0   0   0   0   0  None\n",
              "1   0  1  0  0  0  0  0  0  0  0   0   0   0   0   0  None\n",
              "2   1  1  0  0  0  0  0  0  0  0   0   0   0   0   0  Fizz\n",
              "3   0  0  1  0  0  0  0  0  0  0   0   0   0   0   0  None\n",
              "4   1  0  1  0  0  0  0  0  0  0   0   0   0   0   0  Buzz\n",
              ".. .. .. .. .. .. .. .. .. .. ..  ..  ..  ..  ..  ..   ...\n",
              "95  0  0  0  0  0  1  1  0  0  0   0   0   0   0   0  Fizz\n",
              "96  1  0  0  0  0  1  1  0  0  0   0   0   0   0   0  None\n",
              "97  0  1  0  0  0  1  1  0  0  0   0   0   0   0   0  None\n",
              "98  1  1  0  0  0  1  1  0  0  0   0   0   0   0   0  Fizz\n",
              "99  0  0  1  0  0  1  1  0  0  0   0   0   0   0   0  Buzz\n",
              "\n",
              "[100 rows x 16 columns]>"
            ]
          },
          "metadata": {},
          "execution_count": 52
        }
      ],
      "source": [
        "hold_df_bin.head"
      ]
    },
    {
      "cell_type": "code",
      "execution_count": 53,
      "metadata": {
        "id": "Ig555whOcQFP"
      },
      "outputs": [],
      "source": [
        "# Split hold-out dataset into features and class\n",
        "X_hold_bin = hold_df_bin.iloc[:,:-1]\n",
        "y_hold = hold_df_bin.iloc[:,-1]"
      ]
    },
    {
      "cell_type": "code",
      "source": [
        "X_hold_bin.head"
      ],
      "metadata": {
        "colab": {
          "base_uri": "https://localhost:8080/"
        },
        "id": "qGWmcNQSh2EV",
        "outputId": "228cf522-8cb3-44be-9ee7-e7e75c3fd9fc"
      },
      "execution_count": 55,
      "outputs": [
        {
          "output_type": "execute_result",
          "data": {
            "text/plain": [
              "<bound method NDFrame.head of     0  1  2  3  4  5  6  7  8  9  10  11  12  13  14\n",
              "0   1  0  0  0  0  0  0  0  0  0   0   0   0   0   0\n",
              "1   0  1  0  0  0  0  0  0  0  0   0   0   0   0   0\n",
              "2   1  1  0  0  0  0  0  0  0  0   0   0   0   0   0\n",
              "3   0  0  1  0  0  0  0  0  0  0   0   0   0   0   0\n",
              "4   1  0  1  0  0  0  0  0  0  0   0   0   0   0   0\n",
              ".. .. .. .. .. .. .. .. .. .. ..  ..  ..  ..  ..  ..\n",
              "95  0  0  0  0  0  1  1  0  0  0   0   0   0   0   0\n",
              "96  1  0  0  0  0  1  1  0  0  0   0   0   0   0   0\n",
              "97  0  1  0  0  0  1  1  0  0  0   0   0   0   0   0\n",
              "98  1  1  0  0  0  1  1  0  0  0   0   0   0   0   0\n",
              "99  0  0  1  0  0  1  1  0  0  0   0   0   0   0   0\n",
              "\n",
              "[100 rows x 15 columns]>"
            ]
          },
          "metadata": {},
          "execution_count": 55
        }
      ]
    },
    {
      "cell_type": "code",
      "source": [
        "y_hold .head"
      ],
      "metadata": {
        "colab": {
          "base_uri": "https://localhost:8080/"
        },
        "id": "oBwUKgzQiBXE",
        "outputId": "915ba63b-1db5-494c-c862-3df077d80a7d"
      },
      "execution_count": 56,
      "outputs": [
        {
          "output_type": "execute_result",
          "data": {
            "text/plain": [
              "<bound method NDFrame.head of 0     None\n",
              "1     None\n",
              "2     Fizz\n",
              "3     None\n",
              "4     Buzz\n",
              "      ... \n",
              "95    Fizz\n",
              "96    None\n",
              "97    None\n",
              "98    Fizz\n",
              "99    Buzz\n",
              "Name: class, Length: 100, dtype: object>"
            ]
          },
          "metadata": {},
          "execution_count": 56
        }
      ]
    },
    {
      "cell_type": "markdown",
      "source": [
        "Without further ado, let's find out what our model can do.... (Cross your fingers!)"
      ],
      "metadata": {
        "id": "qWJo6LSnqhxs"
      }
    },
    {
      "cell_type": "code",
      "execution_count": 85,
      "metadata": {
        "id": "OcIqq0AicQFR",
        "outputId": "4ed0cdc5-0914-404d-e713-f38a7fcb5809",
        "colab": {
          "base_uri": "https://localhost:8080/",
          "height": 230
        }
      },
      "outputs": [
        {
          "output_type": "stream",
          "name": "stdout",
          "text": [
            "Accuracy on test set (numbers from 1 to 100): 1.0\n",
            "\n",
            "Confussion Matrix:\n"
          ]
        },
        {
          "output_type": "execute_result",
          "data": {
            "text/plain": [
              "          Buzz  Fizz  FizzBuzz  None\n",
              "Buzz        14     0         0     0\n",
              "Fizz         0    27         0     0\n",
              "FizzBuzz     0     0         6     0\n",
              "None         0     0         0    53"
            ],
            "text/html": [
              "\n",
              "  <div id=\"df-8e53ba37-e5f5-41db-9251-2cfb04d467c3\">\n",
              "    <div class=\"colab-df-container\">\n",
              "      <div>\n",
              "<style scoped>\n",
              "    .dataframe tbody tr th:only-of-type {\n",
              "        vertical-align: middle;\n",
              "    }\n",
              "\n",
              "    .dataframe tbody tr th {\n",
              "        vertical-align: top;\n",
              "    }\n",
              "\n",
              "    .dataframe thead th {\n",
              "        text-align: right;\n",
              "    }\n",
              "</style>\n",
              "<table border=\"1\" class=\"dataframe\">\n",
              "  <thead>\n",
              "    <tr style=\"text-align: right;\">\n",
              "      <th></th>\n",
              "      <th>Buzz</th>\n",
              "      <th>Fizz</th>\n",
              "      <th>FizzBuzz</th>\n",
              "      <th>None</th>\n",
              "    </tr>\n",
              "  </thead>\n",
              "  <tbody>\n",
              "    <tr>\n",
              "      <th>Buzz</th>\n",
              "      <td>14</td>\n",
              "      <td>0</td>\n",
              "      <td>0</td>\n",
              "      <td>0</td>\n",
              "    </tr>\n",
              "    <tr>\n",
              "      <th>Fizz</th>\n",
              "      <td>0</td>\n",
              "      <td>27</td>\n",
              "      <td>0</td>\n",
              "      <td>0</td>\n",
              "    </tr>\n",
              "    <tr>\n",
              "      <th>FizzBuzz</th>\n",
              "      <td>0</td>\n",
              "      <td>0</td>\n",
              "      <td>6</td>\n",
              "      <td>0</td>\n",
              "    </tr>\n",
              "    <tr>\n",
              "      <th>None</th>\n",
              "      <td>0</td>\n",
              "      <td>0</td>\n",
              "      <td>0</td>\n",
              "      <td>53</td>\n",
              "    </tr>\n",
              "  </tbody>\n",
              "</table>\n",
              "</div>\n",
              "      <button class=\"colab-df-convert\" onclick=\"convertToInteractive('df-8e53ba37-e5f5-41db-9251-2cfb04d467c3')\"\n",
              "              title=\"Convert this dataframe to an interactive table.\"\n",
              "              style=\"display:none;\">\n",
              "        \n",
              "  <svg xmlns=\"http://www.w3.org/2000/svg\" height=\"24px\"viewBox=\"0 0 24 24\"\n",
              "       width=\"24px\">\n",
              "    <path d=\"M0 0h24v24H0V0z\" fill=\"none\"/>\n",
              "    <path d=\"M18.56 5.44l.94 2.06.94-2.06 2.06-.94-2.06-.94-.94-2.06-.94 2.06-2.06.94zm-11 1L8.5 8.5l.94-2.06 2.06-.94-2.06-.94L8.5 2.5l-.94 2.06-2.06.94zm10 10l.94 2.06.94-2.06 2.06-.94-2.06-.94-.94-2.06-.94 2.06-2.06.94z\"/><path d=\"M17.41 7.96l-1.37-1.37c-.4-.4-.92-.59-1.43-.59-.52 0-1.04.2-1.43.59L10.3 9.45l-7.72 7.72c-.78.78-.78 2.05 0 2.83L4 21.41c.39.39.9.59 1.41.59.51 0 1.02-.2 1.41-.59l7.78-7.78 2.81-2.81c.8-.78.8-2.07 0-2.86zM5.41 20L4 18.59l7.72-7.72 1.47 1.35L5.41 20z\"/>\n",
              "  </svg>\n",
              "      </button>\n",
              "      \n",
              "  <style>\n",
              "    .colab-df-container {\n",
              "      display:flex;\n",
              "      flex-wrap:wrap;\n",
              "      gap: 12px;\n",
              "    }\n",
              "\n",
              "    .colab-df-convert {\n",
              "      background-color: #E8F0FE;\n",
              "      border: none;\n",
              "      border-radius: 50%;\n",
              "      cursor: pointer;\n",
              "      display: none;\n",
              "      fill: #1967D2;\n",
              "      height: 32px;\n",
              "      padding: 0 0 0 0;\n",
              "      width: 32px;\n",
              "    }\n",
              "\n",
              "    .colab-df-convert:hover {\n",
              "      background-color: #E2EBFA;\n",
              "      box-shadow: 0px 1px 2px rgba(60, 64, 67, 0.3), 0px 1px 3px 1px rgba(60, 64, 67, 0.15);\n",
              "      fill: #174EA6;\n",
              "    }\n",
              "\n",
              "    [theme=dark] .colab-df-convert {\n",
              "      background-color: #3B4455;\n",
              "      fill: #D2E3FC;\n",
              "    }\n",
              "\n",
              "    [theme=dark] .colab-df-convert:hover {\n",
              "      background-color: #434B5C;\n",
              "      box-shadow: 0px 1px 3px 1px rgba(0, 0, 0, 0.15);\n",
              "      filter: drop-shadow(0px 1px 2px rgba(0, 0, 0, 0.3));\n",
              "      fill: #FFFFFF;\n",
              "    }\n",
              "  </style>\n",
              "\n",
              "      <script>\n",
              "        const buttonEl =\n",
              "          document.querySelector('#df-8e53ba37-e5f5-41db-9251-2cfb04d467c3 button.colab-df-convert');\n",
              "        buttonEl.style.display =\n",
              "          google.colab.kernel.accessAllowed ? 'block' : 'none';\n",
              "\n",
              "        async function convertToInteractive(key) {\n",
              "          const element = document.querySelector('#df-8e53ba37-e5f5-41db-9251-2cfb04d467c3');\n",
              "          const dataTable =\n",
              "            await google.colab.kernel.invokeFunction('convertToInteractive',\n",
              "                                                     [key], {});\n",
              "          if (!dataTable) return;\n",
              "\n",
              "          const docLinkHtml = 'Like what you see? Visit the ' +\n",
              "            '<a target=\"_blank\" href=https://colab.research.google.com/notebooks/data_table.ipynb>data table notebook</a>'\n",
              "            + ' to learn more about interactive tables.';\n",
              "          element.innerHTML = '';\n",
              "          dataTable['output_type'] = 'display_data';\n",
              "          await google.colab.output.renderOutput(dataTable, element);\n",
              "          const docLink = document.createElement('div');\n",
              "          docLink.innerHTML = docLinkHtml;\n",
              "          element.appendChild(docLink);\n",
              "        }\n",
              "      </script>\n",
              "    </div>\n",
              "  </div>\n",
              "  "
            ]
          },
          "metadata": {},
          "execution_count": 85
        }
      ],
      "source": [
        "# test model accuracy on hold-out/test set\n",
        "print(f\"Accuracy on test set (numbers from 1 to 100): {mlp_clf.score(X_hold_bin, y_hold)}\\n\")\n",
        "\n",
        "print(\"Confussion Matrix:\")\n",
        "y_pred = mlp_clf.predict(X_hold_bin)\n",
        "cm_df = pd.DataFrame(confusion_matrix(y_hold, y_pred))\n",
        "cm_df.columns = clf.classes_\n",
        "cm_df.set_index(clf.classes_, inplace = True)\n",
        "cm_df"
      ]
    },
    {
      "cell_type": "markdown",
      "source": [
        "Check if it got any numbers wrong, and which ones:"
      ],
      "metadata": {
        "id": "9F_tvJn6klLi"
      }
    },
    {
      "cell_type": "code",
      "source": [
        "misclass = X_hold[y_pred != y_hold].to_list()\n",
        "print(f\"Misclassified numbers: {misclass}\")\n",
        "print(f\"Total: {len(misclass)}\")"
      ],
      "metadata": {
        "colab": {
          "base_uri": "https://localhost:8080/"
        },
        "id": "rFb8kBNGiVD4",
        "outputId": "190a5211-31aa-467d-e50c-d61fbf165b73"
      },
      "execution_count": 88,
      "outputs": [
        {
          "output_type": "stream",
          "name": "stdout",
          "text": [
            "Misclassified numbers: []\n",
            "Total: 0\n"
          ]
        }
      ]
    },
    {
      "cell_type": "code",
      "source": [
        ""
      ],
      "metadata": {
        "id": "yyVQD8ff1qcl"
      },
      "execution_count": null,
      "outputs": []
    }
  ],
  "metadata": {
    "kernelspec": {
      "display_name": "Python 3",
      "language": "python",
      "name": "python3"
    },
    "language_info": {
      "codemirror_mode": {
        "name": "ipython",
        "version": 3
      },
      "file_extension": ".py",
      "mimetype": "text/x-python",
      "name": "python",
      "nbconvert_exporter": "python",
      "pygments_lexer": "ipython3",
      "version": "3.7.6"
    },
    "colab": {
      "name": "ML FizzBuzz_CubanEngineer_TechnicalTest.ipynb",
      "provenance": [],
      "collapsed_sections": [],
      "include_colab_link": true
    }
  },
  "nbformat": 4,
  "nbformat_minor": 0
}